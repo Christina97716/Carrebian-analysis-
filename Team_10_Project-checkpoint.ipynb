{
 "cells": [
  {
   "cell_type": "code",
   "execution_count": 1,
   "metadata": {},
   "outputs": [
    {
     "ename": "FileNotFoundError",
     "evalue": "[Errno 2] No such file or directory: 'WDIW.xlsx'",
     "output_type": "error",
     "traceback": [
      "\u001b[1;31m---------------------------------------------------------------------------\u001b[0m",
      "\u001b[1;31mFileNotFoundError\u001b[0m                         Traceback (most recent call last)",
      "\u001b[1;32m<ipython-input-1-5c49895c3011>\u001b[0m in \u001b[0;36m<module>\u001b[1;34m\u001b[0m\n\u001b[0;32m     10\u001b[0m \u001b[1;33m\u001b[0m\u001b[0m\n\u001b[0;32m     11\u001b[0m \u001b[1;31m# reading the file into Python through pandas\u001b[0m\u001b[1;33m\u001b[0m\u001b[1;33m\u001b[0m\u001b[1;33m\u001b[0m\u001b[0m\n\u001b[1;32m---> 12\u001b[1;33m \u001b[0mdata\u001b[0m \u001b[1;33m=\u001b[0m \u001b[0mpd\u001b[0m\u001b[1;33m.\u001b[0m\u001b[0mread_excel\u001b[0m\u001b[1;33m(\u001b[0m\u001b[0mfile\u001b[0m\u001b[1;33m)\u001b[0m\u001b[1;33m\u001b[0m\u001b[1;33m\u001b[0m\u001b[0m\n\u001b[0m",
      "\u001b[1;32m~\\Anaconda3\\lib\\site-packages\\pandas\\util\\_decorators.py\u001b[0m in \u001b[0;36mwrapper\u001b[1;34m(*args, **kwargs)\u001b[0m\n\u001b[0;32m    206\u001b[0m                 \u001b[1;32melse\u001b[0m\u001b[1;33m:\u001b[0m\u001b[1;33m\u001b[0m\u001b[1;33m\u001b[0m\u001b[0m\n\u001b[0;32m    207\u001b[0m                     \u001b[0mkwargs\u001b[0m\u001b[1;33m[\u001b[0m\u001b[0mnew_arg_name\u001b[0m\u001b[1;33m]\u001b[0m \u001b[1;33m=\u001b[0m \u001b[0mnew_arg_value\u001b[0m\u001b[1;33m\u001b[0m\u001b[1;33m\u001b[0m\u001b[0m\n\u001b[1;32m--> 208\u001b[1;33m             \u001b[1;32mreturn\u001b[0m \u001b[0mfunc\u001b[0m\u001b[1;33m(\u001b[0m\u001b[1;33m*\u001b[0m\u001b[0margs\u001b[0m\u001b[1;33m,\u001b[0m \u001b[1;33m**\u001b[0m\u001b[0mkwargs\u001b[0m\u001b[1;33m)\u001b[0m\u001b[1;33m\u001b[0m\u001b[1;33m\u001b[0m\u001b[0m\n\u001b[0m\u001b[0;32m    209\u001b[0m \u001b[1;33m\u001b[0m\u001b[0m\n\u001b[0;32m    210\u001b[0m         \u001b[1;32mreturn\u001b[0m \u001b[0mwrapper\u001b[0m\u001b[1;33m\u001b[0m\u001b[1;33m\u001b[0m\u001b[0m\n",
      "\u001b[1;32m~\\Anaconda3\\lib\\site-packages\\pandas\\io\\excel\\_base.py\u001b[0m in \u001b[0;36mread_excel\u001b[1;34m(io, sheet_name, header, names, index_col, usecols, squeeze, dtype, engine, converters, true_values, false_values, skiprows, nrows, na_values, keep_default_na, verbose, parse_dates, date_parser, thousands, comment, skip_footer, skipfooter, convert_float, mangle_dupe_cols, **kwds)\u001b[0m\n\u001b[0;32m    308\u001b[0m \u001b[1;33m\u001b[0m\u001b[0m\n\u001b[0;32m    309\u001b[0m     \u001b[1;32mif\u001b[0m \u001b[1;32mnot\u001b[0m \u001b[0misinstance\u001b[0m\u001b[1;33m(\u001b[0m\u001b[0mio\u001b[0m\u001b[1;33m,\u001b[0m \u001b[0mExcelFile\u001b[0m\u001b[1;33m)\u001b[0m\u001b[1;33m:\u001b[0m\u001b[1;33m\u001b[0m\u001b[1;33m\u001b[0m\u001b[0m\n\u001b[1;32m--> 310\u001b[1;33m         \u001b[0mio\u001b[0m \u001b[1;33m=\u001b[0m \u001b[0mExcelFile\u001b[0m\u001b[1;33m(\u001b[0m\u001b[0mio\u001b[0m\u001b[1;33m,\u001b[0m \u001b[0mengine\u001b[0m\u001b[1;33m=\u001b[0m\u001b[0mengine\u001b[0m\u001b[1;33m)\u001b[0m\u001b[1;33m\u001b[0m\u001b[1;33m\u001b[0m\u001b[0m\n\u001b[0m\u001b[0;32m    311\u001b[0m     \u001b[1;32melif\u001b[0m \u001b[0mengine\u001b[0m \u001b[1;32mand\u001b[0m \u001b[0mengine\u001b[0m \u001b[1;33m!=\u001b[0m \u001b[0mio\u001b[0m\u001b[1;33m.\u001b[0m\u001b[0mengine\u001b[0m\u001b[1;33m:\u001b[0m\u001b[1;33m\u001b[0m\u001b[1;33m\u001b[0m\u001b[0m\n\u001b[0;32m    312\u001b[0m         raise ValueError(\n",
      "\u001b[1;32m~\\Anaconda3\\lib\\site-packages\\pandas\\io\\excel\\_base.py\u001b[0m in \u001b[0;36m__init__\u001b[1;34m(self, io, engine)\u001b[0m\n\u001b[0;32m    817\u001b[0m         \u001b[0mself\u001b[0m\u001b[1;33m.\u001b[0m\u001b[0m_io\u001b[0m \u001b[1;33m=\u001b[0m \u001b[0m_stringify_path\u001b[0m\u001b[1;33m(\u001b[0m\u001b[0mio\u001b[0m\u001b[1;33m)\u001b[0m\u001b[1;33m\u001b[0m\u001b[1;33m\u001b[0m\u001b[0m\n\u001b[0;32m    818\u001b[0m \u001b[1;33m\u001b[0m\u001b[0m\n\u001b[1;32m--> 819\u001b[1;33m         \u001b[0mself\u001b[0m\u001b[1;33m.\u001b[0m\u001b[0m_reader\u001b[0m \u001b[1;33m=\u001b[0m \u001b[0mself\u001b[0m\u001b[1;33m.\u001b[0m\u001b[0m_engines\u001b[0m\u001b[1;33m[\u001b[0m\u001b[0mengine\u001b[0m\u001b[1;33m]\u001b[0m\u001b[1;33m(\u001b[0m\u001b[0mself\u001b[0m\u001b[1;33m.\u001b[0m\u001b[0m_io\u001b[0m\u001b[1;33m)\u001b[0m\u001b[1;33m\u001b[0m\u001b[1;33m\u001b[0m\u001b[0m\n\u001b[0m\u001b[0;32m    820\u001b[0m \u001b[1;33m\u001b[0m\u001b[0m\n\u001b[0;32m    821\u001b[0m     \u001b[1;32mdef\u001b[0m \u001b[0m__fspath__\u001b[0m\u001b[1;33m(\u001b[0m\u001b[0mself\u001b[0m\u001b[1;33m)\u001b[0m\u001b[1;33m:\u001b[0m\u001b[1;33m\u001b[0m\u001b[1;33m\u001b[0m\u001b[0m\n",
      "\u001b[1;32m~\\Anaconda3\\lib\\site-packages\\pandas\\io\\excel\\_xlrd.py\u001b[0m in \u001b[0;36m__init__\u001b[1;34m(self, filepath_or_buffer)\u001b[0m\n\u001b[0;32m     19\u001b[0m         \u001b[0merr_msg\u001b[0m \u001b[1;33m=\u001b[0m \u001b[1;34m\"Install xlrd >= 1.0.0 for Excel support\"\u001b[0m\u001b[1;33m\u001b[0m\u001b[1;33m\u001b[0m\u001b[0m\n\u001b[0;32m     20\u001b[0m         \u001b[0mimport_optional_dependency\u001b[0m\u001b[1;33m(\u001b[0m\u001b[1;34m\"xlrd\"\u001b[0m\u001b[1;33m,\u001b[0m \u001b[0mextra\u001b[0m\u001b[1;33m=\u001b[0m\u001b[0merr_msg\u001b[0m\u001b[1;33m)\u001b[0m\u001b[1;33m\u001b[0m\u001b[1;33m\u001b[0m\u001b[0m\n\u001b[1;32m---> 21\u001b[1;33m         \u001b[0msuper\u001b[0m\u001b[1;33m(\u001b[0m\u001b[1;33m)\u001b[0m\u001b[1;33m.\u001b[0m\u001b[0m__init__\u001b[0m\u001b[1;33m(\u001b[0m\u001b[0mfilepath_or_buffer\u001b[0m\u001b[1;33m)\u001b[0m\u001b[1;33m\u001b[0m\u001b[1;33m\u001b[0m\u001b[0m\n\u001b[0m\u001b[0;32m     22\u001b[0m \u001b[1;33m\u001b[0m\u001b[0m\n\u001b[0;32m     23\u001b[0m     \u001b[1;33m@\u001b[0m\u001b[0mproperty\u001b[0m\u001b[1;33m\u001b[0m\u001b[1;33m\u001b[0m\u001b[0m\n",
      "\u001b[1;32m~\\Anaconda3\\lib\\site-packages\\pandas\\io\\excel\\_base.py\u001b[0m in \u001b[0;36m__init__\u001b[1;34m(self, filepath_or_buffer)\u001b[0m\n\u001b[0;32m    357\u001b[0m             \u001b[0mself\u001b[0m\u001b[1;33m.\u001b[0m\u001b[0mbook\u001b[0m \u001b[1;33m=\u001b[0m \u001b[0mself\u001b[0m\u001b[1;33m.\u001b[0m\u001b[0mload_workbook\u001b[0m\u001b[1;33m(\u001b[0m\u001b[0mfilepath_or_buffer\u001b[0m\u001b[1;33m)\u001b[0m\u001b[1;33m\u001b[0m\u001b[1;33m\u001b[0m\u001b[0m\n\u001b[0;32m    358\u001b[0m         \u001b[1;32melif\u001b[0m \u001b[0misinstance\u001b[0m\u001b[1;33m(\u001b[0m\u001b[0mfilepath_or_buffer\u001b[0m\u001b[1;33m,\u001b[0m \u001b[0mstr\u001b[0m\u001b[1;33m)\u001b[0m\u001b[1;33m:\u001b[0m\u001b[1;33m\u001b[0m\u001b[1;33m\u001b[0m\u001b[0m\n\u001b[1;32m--> 359\u001b[1;33m             \u001b[0mself\u001b[0m\u001b[1;33m.\u001b[0m\u001b[0mbook\u001b[0m \u001b[1;33m=\u001b[0m \u001b[0mself\u001b[0m\u001b[1;33m.\u001b[0m\u001b[0mload_workbook\u001b[0m\u001b[1;33m(\u001b[0m\u001b[0mfilepath_or_buffer\u001b[0m\u001b[1;33m)\u001b[0m\u001b[1;33m\u001b[0m\u001b[1;33m\u001b[0m\u001b[0m\n\u001b[0m\u001b[0;32m    360\u001b[0m         \u001b[1;32melse\u001b[0m\u001b[1;33m:\u001b[0m\u001b[1;33m\u001b[0m\u001b[1;33m\u001b[0m\u001b[0m\n\u001b[0;32m    361\u001b[0m             raise ValueError(\n",
      "\u001b[1;32m~\\Anaconda3\\lib\\site-packages\\pandas\\io\\excel\\_xlrd.py\u001b[0m in \u001b[0;36mload_workbook\u001b[1;34m(self, filepath_or_buffer)\u001b[0m\n\u001b[0;32m     34\u001b[0m             \u001b[1;32mreturn\u001b[0m \u001b[0mopen_workbook\u001b[0m\u001b[1;33m(\u001b[0m\u001b[0mfile_contents\u001b[0m\u001b[1;33m=\u001b[0m\u001b[0mdata\u001b[0m\u001b[1;33m)\u001b[0m\u001b[1;33m\u001b[0m\u001b[1;33m\u001b[0m\u001b[0m\n\u001b[0;32m     35\u001b[0m         \u001b[1;32melse\u001b[0m\u001b[1;33m:\u001b[0m\u001b[1;33m\u001b[0m\u001b[1;33m\u001b[0m\u001b[0m\n\u001b[1;32m---> 36\u001b[1;33m             \u001b[1;32mreturn\u001b[0m \u001b[0mopen_workbook\u001b[0m\u001b[1;33m(\u001b[0m\u001b[0mfilepath_or_buffer\u001b[0m\u001b[1;33m)\u001b[0m\u001b[1;33m\u001b[0m\u001b[1;33m\u001b[0m\u001b[0m\n\u001b[0m\u001b[0;32m     37\u001b[0m \u001b[1;33m\u001b[0m\u001b[0m\n\u001b[0;32m     38\u001b[0m     \u001b[1;33m@\u001b[0m\u001b[0mproperty\u001b[0m\u001b[1;33m\u001b[0m\u001b[1;33m\u001b[0m\u001b[0m\n",
      "\u001b[1;32m~\\Anaconda3\\lib\\site-packages\\xlrd\\__init__.py\u001b[0m in \u001b[0;36mopen_workbook\u001b[1;34m(filename, logfile, verbosity, use_mmap, file_contents, encoding_override, formatting_info, on_demand, ragged_rows)\u001b[0m\n\u001b[0;32m    109\u001b[0m     \u001b[1;32melse\u001b[0m\u001b[1;33m:\u001b[0m\u001b[1;33m\u001b[0m\u001b[1;33m\u001b[0m\u001b[0m\n\u001b[0;32m    110\u001b[0m         \u001b[0mfilename\u001b[0m \u001b[1;33m=\u001b[0m \u001b[0mos\u001b[0m\u001b[1;33m.\u001b[0m\u001b[0mpath\u001b[0m\u001b[1;33m.\u001b[0m\u001b[0mexpanduser\u001b[0m\u001b[1;33m(\u001b[0m\u001b[0mfilename\u001b[0m\u001b[1;33m)\u001b[0m\u001b[1;33m\u001b[0m\u001b[1;33m\u001b[0m\u001b[0m\n\u001b[1;32m--> 111\u001b[1;33m         \u001b[1;32mwith\u001b[0m \u001b[0mopen\u001b[0m\u001b[1;33m(\u001b[0m\u001b[0mfilename\u001b[0m\u001b[1;33m,\u001b[0m \u001b[1;34m\"rb\"\u001b[0m\u001b[1;33m)\u001b[0m \u001b[1;32mas\u001b[0m \u001b[0mf\u001b[0m\u001b[1;33m:\u001b[0m\u001b[1;33m\u001b[0m\u001b[1;33m\u001b[0m\u001b[0m\n\u001b[0m\u001b[0;32m    112\u001b[0m             \u001b[0mpeek\u001b[0m \u001b[1;33m=\u001b[0m \u001b[0mf\u001b[0m\u001b[1;33m.\u001b[0m\u001b[0mread\u001b[0m\u001b[1;33m(\u001b[0m\u001b[0mpeeksz\u001b[0m\u001b[1;33m)\u001b[0m\u001b[1;33m\u001b[0m\u001b[1;33m\u001b[0m\u001b[0m\n\u001b[0;32m    113\u001b[0m     \u001b[1;32mif\u001b[0m \u001b[0mpeek\u001b[0m \u001b[1;33m==\u001b[0m \u001b[1;34mb\"PK\\x03\\x04\"\u001b[0m\u001b[1;33m:\u001b[0m \u001b[1;31m# a ZIP file\u001b[0m\u001b[1;33m\u001b[0m\u001b[1;33m\u001b[0m\u001b[0m\n",
      "\u001b[1;31mFileNotFoundError\u001b[0m: [Errno 2] No such file or directory: 'WDIW.xlsx'"
     ]
    }
   ],
   "source": [
    "##### Josh #####\n",
    "# importing packages\n",
    "import pandas as pd # data science essentials\n",
    "import matplotlib.pyplot as plt # data visualization\n",
    "import seaborn as sns\n",
    "import numpy as np\n",
    "\n",
    "# specifying a file (must be in the working directory)\n",
    "file = 'WDIW.xlsx'\n",
    "\n",
    "# reading the file into Python through pandas\n",
    "data = pd.read_excel(file)"
   ]
  },
  {
   "cell_type": "code",
   "execution_count": null,
   "metadata": {},
   "outputs": [],
   "source": [
    "#Check Countries in our group\n",
    "\n",
    "data[['Country Name']][data['Cool Name'] == 'Ratchet']"
   ]
  },
  {
   "cell_type": "code",
   "execution_count": null,
   "metadata": {},
   "outputs": [],
   "source": [
    "# re-reading in the dataset\n",
    "file = 'WDIW.xlsx'\n",
    "\n",
    "data = pd.read_excel(file)\n",
    "\n",
    "# Loop to count missing values\n",
    "for column in data:\n",
    "    if data[column].isnull().astype(int).sum() > 0: # To only count columns with missing values\n",
    "        data[f'm_{column}'] = data[column].isnull().astype(int) # Create new columns\n",
    "\n",
    "#Save File \n",
    "data.to_excel('WDIW_after_flags.xlsx',\n",
    "                 index = False) # Prevents extra column from being created\n",
    "\n",
    "file = 'WDIW_after_flags.xlsx'\n",
    "data = pd.read_excel(file)\n"
   ]
  },
  {
   "cell_type": "code",
   "execution_count": null,
   "metadata": {},
   "outputs": [],
   "source": [
    "# checking to see if the new solution worked\n",
    "print(data.info(null_counts = True,\n",
    "                    verbose     = False))\n",
    "\n",
    "# making a more formal check\n",
    "a = data.isnull().sum().sum() # Total missing values in dataset\n",
    "b = data.iloc[ : , -61: ].sum().sum() # Total flagged by new columns\n",
    "\n",
    "if a == b:\n",
    "    print('\\nAll missing values accounted for.')\n",
    "else:\n",
    "    print('\\nSome missing values may be unaccounted for, please audit.')"
   ]
  },
  {
   "cell_type": "code",
   "execution_count": null,
   "metadata": {},
   "outputs": [],
   "source": [
    "# Reload Original Data\n",
    "\n",
    "file = 'WDIW.xlsx'\n",
    "data = pd.read_excel(file)"
   ]
  },
  {
   "cell_type": "code",
   "execution_count": null,
   "metadata": {},
   "outputs": [],
   "source": [
    "# Loading Income Group column from Metadata\n",
    "\n",
    "meta_file = 'WDI_Metadata.xlsx'\n",
    "\n",
    "# metadata = pd.read_excel(meta_file)\n",
    "\n",
    "# metadata_xls = pd.ExcelFile(meta_file)\n",
    "\n",
    "\n",
    "meta_df = pd.read_excel(meta_file, 'Country - Metadata')\n",
    "\n",
    "meta_df.rename(columns = {'Code':'Country Code'}, inplace = True)  \n",
    "\n",
    "meta_df = meta_df[['Country Code','Income Group']]\n"
   ]
  },
  {
   "cell_type": "code",
   "execution_count": null,
   "metadata": {},
   "outputs": [],
   "source": [
    "# Merge Data with Income Group Column\n",
    "\n",
    "data = pd.merge(data, meta_df, on = 'Country Code', how = 'left')\n",
    "\n",
    "data.to_excel('WDIW_Income_Groups.xlsx',\n",
    "                 index = False)"
   ]
  },
  {
   "cell_type": "code",
   "execution_count": null,
   "metadata": {},
   "outputs": [],
   "source": [
    "#Create New Column counting total null values for each country\n",
    "file = 'WDIW_Income_Groups.xlsx'\n",
    "\n",
    "data = pd.read_excel(file)\n",
    "\n",
    "data['Null_Count'] = data.isnull().sum(axis=1)"
   ]
  },
  {
   "cell_type": "code",
   "execution_count": null,
   "metadata": {},
   "outputs": [],
   "source": [
    "# Create New DataFrame containing only our countries\n",
    "ratchet = data[data['Cool Name']=='Ratchet']\n"
   ]
  },
  {
   "cell_type": "code",
   "execution_count": null,
   "metadata": {},
   "outputs": [],
   "source": [
    "#Show Count of Nulls for our region\n",
    "ratchet[['Country Name', 'Null_Count']]"
   ]
  },
  {
   "cell_type": "code",
   "execution_count": null,
   "metadata": {},
   "outputs": [],
   "source": [
    "#Check Null Values for Each Column\n",
    "pd.options.display.max_rows = None\n",
    "\n",
    "print(ratchet.iloc[:, 5:68].isnull().sum())"
   ]
  },
  {
   "cell_type": "code",
   "execution_count": null,
   "metadata": {},
   "outputs": [],
   "source": [
    "#Reset Max Rows\n",
    "\n",
    "pd.reset_option('display.max_rows')"
   ]
  },
  {
   "cell_type": "code",
   "execution_count": null,
   "metadata": {},
   "outputs": [],
   "source": [
    "data = data.drop(axis=1, columns=['Births attended by skilled health staff (% of total)',\n",
    "                          'Educational attainment, Doctoral or equivalent, population 25+, total (%) (cumulative)',\n",
    "                          'Educational attainment, at least Bachelor\\'s or equivalent, population 25+, total (%) (cumulative)',\n",
    "                          'Educational attainment, at least Master\\'s or equivalent, population 25+, total (%) (cumulative)',\n",
    "                          'Educational attainment, at least completed lower secondary, population 25+, total (%) (cumulative)',\n",
    "                          'Educational attainment, at least completed post-secondary, population 25+, total (%) (cumulative)',\n",
    "                          'Educational attainment, at least completed primary, population 25+ years, total (%) (cumulative)',\n",
    "                          'Educational attainment, at least completed short-cycle tertiary, population 25+, total (%) (cumulative)',\n",
    "                          'Educational attainment, at least completed upper secondary, population 25+, total (%) (cumulative)',\n",
    "                          'GINI index (World Bank estimate)',\n",
    "                          'Government expenditure on education, total (% of government expenditure)',\n",
    "                          'Income share held by fourth 20%',\n",
    "                          'Income share held by highest 20%',\n",
    "                          'Income share held by lowest 20%',\n",
    "                          'Income share held by second 20%',\n",
    "                          'Income share held by third 20%',\n",
    "                          'Literacy rate, adult total (% of people ages 15 and above)',\n",
    "                          'Literacy rate, youth total (% of people ages 15-24)',\n",
    "                          'Poverty headcount ratio at $1.90 a day (2011 PPP) (% of population)',\n",
    "                          'Poverty headcount ratio at $3.20 a day (2011 PPP) (% of population)',\n",
    "                          'Poverty headcount ratio at national poverty lines (% of population)',\n",
    "                          'Prevalence of underweight, weight for age (% of children under 5)',\n",
    "                          'Prevalence of undernourishment (% of population)',\n",
    "                          'Prevalence of HIV, total (% of population ages 15-49)',\n",
    "                          'Military expenditure (% of GDP)',\n",
    "                          'Armed forces personnel (% of total labor force)',\n",
    "                          'Null_Count']).copy()\n",
    "\n",
    "data.to_excel('WDIW_dropped_data.xlsx',\n",
    "                 index = False)"
   ]
  },
  {
   "cell_type": "code",
   "execution_count": null,
   "metadata": {},
   "outputs": [],
   "source": [
    "# Load New File and Set Data \n",
    "\n",
    "# specifying data types\n",
    "types = {'Country Code'      : str,\n",
    "         'Country Name'      : str,\n",
    "         'Hult Region'       : 'category',\n",
    "         'GDP (current US$)' : int}\n",
    "\n",
    "file = 'WDIW_dropped_data.xlsx'\n",
    "\n",
    "data = pd.read_excel(file, index_col = 'Country Code')\n",
    "\n",
    "ratchet = data[data['Cool Name']=='Ratchet']\n",
    "\n",
    "region = pd.DataFrame(ratchet)"
   ]
  },
  {
   "cell_type": "code",
   "execution_count": null,
   "metadata": {},
   "outputs": [],
   "source": [
    "# Boxplot by region for Fertility\n",
    "                \n",
    "data.boxplot(column            = ['Fertility rate, total (births per woman)'],\n",
    "                 by            = 'Hult Region',\n",
    "                 vert          = False,\n",
    "                 manage_xticks  = True, # deprecated!\n",
    "                 patch_artist  = False,\n",
    "                 meanline      = True,\n",
    "                 showmeans     = True)\n",
    "plt.title('Fertility rate, total (births per woman)')\n",
    "plt.suptitle(\"\")\n",
    "plt.tight_layout()\n",
    "\n",
    "plt.figure(figsize=(16, 6))\n",
    "\n",
    "plt.show()\n",
    "\n"
   ]
  },
  {
   "cell_type": "code",
   "execution_count": null,
   "metadata": {},
   "outputs": [],
   "source": [
    "# Boxplot by region for Urban Pop\n",
    "                \n",
    "data.boxplot(column            = ['Urban population (% of total population)'],\n",
    "                 by            = 'Hult Region',\n",
    "                 vert          = False,\n",
    "                 manage_xticks  = True, # deprecated!\n",
    "                 patch_artist  = False,\n",
    "                 meanline      = True,\n",
    "                 showmeans     = True)\n",
    "plt.title('Urban population (% of total population)')\n",
    "plt.suptitle(\"\")\n",
    "plt.tight_layout()\n",
    "\n",
    "plt.figure(figsize=(16, 6))\n",
    "\n",
    "plt.show()"
   ]
  },
  {
   "cell_type": "code",
   "execution_count": null,
   "metadata": {},
   "outputs": [],
   "source": [
    "# Boxplot by region for Urban Pop\n",
    "                \n",
    "data.boxplot(column            = ['Urban population (% of total population)'],\n",
    "                 by            = 'Hult Region',\n",
    "                 vert          = False,\n",
    "                 manage_xticks  = True, # deprecated!\n",
    "                 patch_artist  = False,\n",
    "                 meanline      = True,\n",
    "                 showmeans     = True)\n",
    "plt.title('Urban population (% of total population)')\n",
    "plt.suptitle(\"\")\n",
    "plt.tight_layout()\n",
    "\n",
    "plt.figure(figsize=(16, 6))\n",
    "\n",
    "plt.show()"
   ]
  },
  {
   "cell_type": "code",
   "execution_count": null,
   "metadata": {},
   "outputs": [],
   "source": [
    "# Boxplot by region for Life Expectancy\n",
    "                \n",
    "data.boxplot(column            = ['Life expectancy at birth, total (years)'],\n",
    "                 by            = 'Hult Region',\n",
    "                 vert          = False,\n",
    "                 manage_xticks  = True, # deprecated!\n",
    "                 patch_artist  = False,\n",
    "                 meanline      = True,\n",
    "                 showmeans     = True)\n",
    "plt.title('Life expectancy at birth, total (years)')\n",
    "plt.suptitle(\"\")\n",
    "plt.tight_layout()\n",
    "\n",
    "plt.figure(figsize=(16, 6))\n",
    "\n",
    "plt.show()"
   ]
  },
  {
   "cell_type": "code",
   "execution_count": null,
   "metadata": {},
   "outputs": [],
   "source": [
    "# Reload File and Set Data \n",
    "\n",
    "file = 'WDIW_dropped_data.xlsx'\n",
    "\n",
    "data = pd.read_excel(file, index_col = 'Country Code')\n",
    "\n",
    "ratchet = data[data['Cool Name']=='Ratchet']\n",
    "\n",
    "region = pd.DataFrame(ratchet)\n"
   ]
  },
  {
   "cell_type": "code",
   "execution_count": null,
   "metadata": {},
   "outputs": [],
   "source": [
    "# Individual Missing Values\n",
    "region.loc[['VGB'],['GDP (current US$)']] = 1028000000\n",
    "region.loc[['VGB'],['GDP growth (annual %)']] = 2\n",
    "region.loc[['CYM'],['Rural population (% of total population)']] = 0"
   ]
  },
  {
   "cell_type": "code",
   "execution_count": null,
   "metadata": {},
   "outputs": [],
   "source": [
    "# Missing Values for Population under 14\n",
    "code_pop_14 = ['VGB', 'CYM', 'DMA', 'KNA', 'TCA']\n",
    "pop_14_numbers = [16.72,17.91,21.62,20.09,21.62]\n",
    "for (x,y) in zip(code_pop_14, pop_14_numbers):\n",
    "    region.loc[[x],['Population ages 0-14 (% of total population)']] = y\n",
    "    "
   ]
  },
  {
   "cell_type": "code",
   "execution_count": null,
   "metadata": {},
   "outputs": [],
   "source": [
    "# Missing Values for Population 15-64\n",
    "code_pop_15 = ['VGB', 'CYM', 'DMA', 'KNA', 'TCA']\n",
    "pop_15_numbers = [73.96,70.96,66.89,70.88,73.63]\n",
    "for (x,y) in zip(code_pop_15, pop_15_numbers):\n",
    "    region.loc[[x],['Population ages 15-64 (% of total population)']] = y"
   ]
  },
  {
   "cell_type": "code",
   "execution_count": null,
   "metadata": {},
   "outputs": [],
   "source": [
    "# Missing Values for Population 65+\n",
    "code_pop_65 = ['VGB', 'CYM', 'DMA', 'KNA', 'TCA']\n",
    "pop_65_numbers = [9.32,13.13,11.43,9.03,4.76]\n",
    "for (x,y) in zip(code_pop_65, pop_65_numbers):\n",
    "    region.loc[[x],['Population ages 65 and above (% of total population)']] = y"
   ]
  },
  {
   "cell_type": "code",
   "execution_count": null,
   "metadata": {},
   "outputs": [],
   "source": [
    "# Missing Values for Population in Largest City\n",
    "pop_lrg_cty = ['ATG', 'ABW', 'BHS','BRB','VGB', 'CYM', 'DMA','GRD', 'KNA','LCA','VCT', 'TCA','VIR']\n",
    "pop_lrg_numbers = [24.5,43.5,83.1,31.2,48.1,100,70.8,36.4,30.8,18.8,52.6,93.4,95.8]\n",
    "for (x,y) in zip(pop_lrg_cty, pop_lrg_numbers):\n",
    "    region.loc[[x],['Population in the largest city (% of urban population)']] = y"
   ]
  },
  {
   "cell_type": "code",
   "execution_count": null,
   "metadata": {},
   "outputs": [],
   "source": [
    "# Missing Values for Services, Value Added\n",
    "srv_cty = ['ABW', 'BRB', 'VGB', 'HTI', 'VIR']\n",
    "srv_numbers = [92.3,88.7,93.1,57.6,78]\n",
    "for (x,y) in zip(srv_cty, srv_numbers):\n",
    "    region.loc[[x],['Services, value added (% of GDP)']] = y"
   ]
  },
  {
   "cell_type": "code",
   "execution_count": null,
   "metadata": {},
   "outputs": [],
   "source": [
    "# Missing Values for Tax Revenue % of GDP\n",
    "tax_cty = ['ATG', 'ABW', 'BRB', 'VGB', 'CYM', 'CUB', 'DMA', 'GRD', 'HTI', 'PRI', 'TTO','VIR']\n",
    "tax_numbers = [19.6,25.2,29.4,38.9,38.9,58.1,40.9,25.8,18.2,8.9,24.5,28.9]\n",
    "for (x,y) in zip(tax_cty, tax_numbers):\n",
    "    region.loc[[x],['Tax revenue (% of GDP)']] = y\n",
    "\n",
    "# Use median to fill in Remaining Missing Value\n",
    "tax_median = region['Tax revenue (% of GDP)'].median()\n",
    "region['Tax revenue (% of GDP)'] = region['Tax revenue (% of GDP)'].fillna(tax_median)\n"
   ]
  },
  {
   "cell_type": "code",
   "execution_count": null,
   "metadata": {},
   "outputs": [],
   "source": [
    "# Missing Values for Females using 50% of total population (Rounded up)\n",
    "female_cty = ['VGB', 'CYM', 'DMA', 'KNA', 'TCA']\n",
    "female_numbers = [14789,31691,35729,26023,18558]\n",
    "for (x,y) in zip(female_cty, female_numbers):\n",
    "    region.loc[[x],['Population, female']] = y"
   ]
  },
  {
   "cell_type": "code",
   "execution_count": null,
   "metadata": {},
   "outputs": [],
   "source": [
    "# Missing Values for Males using 50% of total population (Rounded down)\n",
    "male_cty = ['VGB', 'CYM', 'DMA', 'KNA', 'TCA']\n",
    "male_numbers = [14788,31691,35729,26022,18557]\n",
    "for (x,y) in zip(male_cty, male_numbers):\n",
    "    region.loc[[x],['Population, male']] = y"
   ]
  },
  {
   "cell_type": "code",
   "execution_count": null,
   "metadata": {},
   "outputs": [],
   "source": [
    "# Missing Values for Death Rate\n",
    "death_cty = ['VGB', 'DMA', 'KNA', 'TCA']\n",
    "death_numbers = [5.2,7.9,7.2,3.3]\n",
    "for (x,y) in zip(death_cty, death_numbers):\n",
    "    region.loc[[x],['Death rate, crude (per 1,000 people)']] = y"
   ]
  },
  {
   "cell_type": "code",
   "execution_count": null,
   "metadata": {},
   "outputs": [],
   "source": [
    "# Missing Values for Agriculture\n",
    "agri_cty = ['BRB', 'VGB', 'HTI', 'VIR']\n",
    "agri_numbers = [1.5,0.2,22.1,2]\n",
    "for (x,y) in zip(agri_cty, agri_numbers):\n",
    "    region.loc[[x],['Agriculture, forestry, and fishing, value added (% of GDP)']] = y\n",
    "    \n",
    "# Use median to fill in Remaining Missing Value\n",
    "agri_median = region['Agriculture, forestry, and fishing, value added (% of GDP)'].median()\n",
    "region['Agriculture, forestry, and fishing, value added (% of GDP)'] = region['Agriculture, forestry, and fishing, value added (% of GDP)'].fillna(agri_median)"
   ]
  },
  {
   "cell_type": "code",
   "execution_count": null,
   "metadata": {},
   "outputs": [],
   "source": [
    "# Missing Values for Employment in Agriculture\n",
    "emp_agri_cty = ['ATG', 'ABW', 'VGB', 'CYM', 'DMA', 'GRD', 'TCA']\n",
    "emp_agri_numbers = [7,1,0.2,1.9,40,11,20]\n",
    "for (x,y) in zip(emp_agri_cty, emp_agri_numbers):\n",
    "    region.loc[[x],['Employment in agriculture (% of total employment) (modeled ILO estimate)']] = y\n",
    "    \n",
    "# Use median to fill in Remaining Missing Value\n",
    "emp_agri_median = region['Employment in agriculture (% of total employment) (modeled ILO estimate)'].median()\n",
    "region['Employment in agriculture (% of total employment) (modeled ILO estimate)'] = region['Employment in agriculture (% of total employment) (modeled ILO estimate)'].fillna(emp_agri_median)"
   ]
  },
  {
   "cell_type": "code",
   "execution_count": null,
   "metadata": {},
   "outputs": [],
   "source": [
    "# Missing Values for Employment in Industry\n",
    "emp_ind_cty = ['ATG', 'VGB', 'CYM', 'DMA', 'GRD']\n",
    "emp_ind_numbers = [11, 40, 19.1, 32, 20]\n",
    "for (x,y) in zip(emp_ind_cty, emp_ind_numbers):\n",
    "    region.loc[[x],['Employment in industry (% of total employment) (modeled ILO estimate)']] = y\n",
    "    \n",
    "# Use median to fill in Remaining Missing Value\n",
    "emp_agri_median = region['Employment in industry (% of total employment) (modeled ILO estimate)'].median()\n",
    "region['Employment in industry (% of total employment) (modeled ILO estimate)'] = region['Employment in industry (% of total employment) (modeled ILO estimate)'].fillna(emp_agri_median)"
   ]
  },
  {
   "cell_type": "code",
   "execution_count": null,
   "metadata": {},
   "outputs": [],
   "source": [
    "# Missing Values for Employment in Services (100 - Employment in Industry - Employement in Agriculture)\n",
    "region['Employment in services (% of total employment) (modeled ILO estimate)'].fillna((100-region['Employment in agriculture (% of total employment) (modeled ILO estimate)']-region['Employment in industry (% of total employment) (modeled ILO estimate)']),inplace=True)"
   ]
  },
  {
   "cell_type": "code",
   "execution_count": null,
   "metadata": {},
   "outputs": [],
   "source": [
    "# Missing Values for Fertility Rate\n",
    "fert_cty = ['VGB', 'CYM', 'DMA', 'KNA', 'TCA']\n",
    "fert_numbers = [1.29,1.85,2.03,1.77,1.7]\n",
    "for (x,y) in zip(fert_cty, fert_numbers):\n",
    "    region.loc[[x],['Fertility rate, total (births per woman)']] = y"
   ]
  },
  {
   "cell_type": "code",
   "execution_count": null,
   "metadata": {},
   "outputs": [],
   "source": [
    "# Missing Values for Industry Value Added\n",
    "ind_val_cty = ['ATG', 'ABW', 'BRB', 'DOM', 'GRD', 'HTI', 'JAM', 'PRI', 'KNA', 'LCA', 'VCT', 'TTO','TCA']\n",
    "ind_val_numbers = [19.28, 16.18, 12.66,12.14,13.3,55.2,20.46,50.13,23.9,9.75,15.04,39.02,9.66]\n",
    "for (x,y) in zip(ind_val_cty, ind_val_numbers):\n",
    "    region.loc[[x],['Industry (including construction), value added (% of GDP)']] = y"
   ]
  },
  {
   "cell_type": "code",
   "execution_count": null,
   "metadata": {},
   "outputs": [],
   "source": [
    "# Missing Values for Life Expectancy\n",
    "life_exp_cty = ['VGB', 'CYM', 'DMA', 'KNA', 'TCA']\n",
    "life_exp_numbers = [78.8,81.3,77.2,75.9,80]\n",
    "for (x,y) in zip(life_exp_cty, life_exp_numbers):\n",
    "    region.loc[[x],['Life expectancy at birth, total (years)']] = y"
   ]
  },
  {
   "cell_type": "code",
   "execution_count": null,
   "metadata": {},
   "outputs": [],
   "source": [
    "# Missing Values for Age Dependency\n",
    "age_dep_cty = ['VGB','CYM', 'DMA', 'KNA', 'TCA']\n",
    "age_dep_numbers = [35.21,43.74,49.41,41.08,35.83]\n",
    "for (x,y) in zip(age_dep_cty, age_dep_numbers):\n",
    "    region.loc[[x],['Age dependency ratio (% of working-age population)']] = y"
   ]
  },
  {
   "cell_type": "code",
   "execution_count": null,
   "metadata": {},
   "outputs": [],
   "source": [
    "# Missing Values for Age Dependency, old\n",
    "old_age_dep_cty = ['VGB','CYM', 'DMA', 'KNA', 'TCA']\n",
    "old_age_dep_numbers = [12.60,18.50,17.09,12.74,6.46]\n",
    "for (x,y) in zip(old_age_dep_cty, old_age_dep_numbers):\n",
    "    region.loc[[x],['Age dependency ratio, old (% of working-age population)']] = y"
   ]
  },
  {
   "cell_type": "code",
   "execution_count": null,
   "metadata": {},
   "outputs": [],
   "source": [
    "# Missing Values for Age Dependency, young\n",
    "young_age_dep_cty = ['VGB','CYM', 'DMA', 'KNA', 'TCA']\n",
    "young_age_dep_numbers = [22.61,25.24,32.32,28.34,29.36]\n",
    "for (x,y) in zip(young_age_dep_cty, young_age_dep_numbers):\n",
    "    region.loc[[x],['Age dependency ratio, young (% of working-age population)']] = y"
   ]
  },
  {
   "cell_type": "code",
   "execution_count": null,
   "metadata": {},
   "outputs": [],
   "source": [
    "# Loop to impute all remaining missing values using Median\n",
    "for column in region:\n",
    "    if region[column].isnull().astype(int).sum() > 0: # To only count columns with missing values\n",
    "        col_median = region[column].median()\n",
    "        region[column] = region[column].fillna(col_median)"
   ]
  },
  {
   "cell_type": "code",
   "execution_count": null,
   "metadata": {},
   "outputs": [],
   "source": [
    "#Save File with no missing values\n",
    "region.to_excel('WDIW_Imputed_Values.xlsx',\n",
    "                index = True)"
   ]
  },
  {
   "cell_type": "code",
   "execution_count": null,
   "metadata": {},
   "outputs": [],
   "source": [
    "#### Junjie's Code ####"
   ]
  },
  {
   "cell_type": "code",
   "execution_count": null,
   "metadata": {},
   "outputs": [],
   "source": [
    "file = 'WDIW_Imputed_Values.xlsx'\n",
    "team = pd.read_excel(file)\n",
    "\n",
    "def trendline():\n",
    "    tr=np.polyfit(x,y,1)\n",
    "    ptr=np.poly1d(tr)\n",
    "    plt.plot(x,ptr(x),'r--')"
   ]
  },
  {
   "cell_type": "code",
   "execution_count": null,
   "metadata": {},
   "outputs": [],
   "source": [
    "colm=['Access to electricity (% of population)',\n",
    " 'Access to electricity, rural (% of rural population)',\n",
    " 'Access to electricity, urban (% of urban population)',\n",
    " 'Adolescent fertility rate (births per 1,000 women ages 15-19)',\n",
    " 'Age dependency ratio (% of working-age population)',\n",
    " 'Age dependency ratio, old (% of working-age population)',\n",
    " 'Age dependency ratio, young (% of working-age population)',\n",
    " 'Agriculture, forestry, and fishing, value added (% of GDP)',\n",
    " 'Birth rate, crude (per 1,000 people)',\n",
    " 'Death rate, crude (per 1,000 people)',\n",
    " 'Employment in agriculture (% of total employment) (modeled ILO estimate)',\n",
    " 'Employment in industry (% of total employment) (modeled ILO estimate)',\n",
    " 'Employment in services (% of total employment) (modeled ILO estimate)',\n",
    " 'Fertility rate, total (births per woman)',\n",
    " 'GDP (current US$)',\n",
    " 'GDP growth (annual %)',\n",
    " 'Industry (including construction), value added (% of GDP)',\n",
    " 'Life expectancy at birth, total (years)',\n",
    " 'Merchandise trade (% of GDP)',\n",
    " 'Mobile cellular subscriptions (per 100 people)',\n",
    " 'Number of people pushed below the $3.10 ($ 2011 PPP) poverty line by out-of-pocket health care expenditure',\n",
    " 'Population ages 0-14 (% of total population)',\n",
    " 'Population ages 15-64 (% of total population)',\n",
    " 'Population ages 65 and above (% of total population)',\n",
    " 'Population density (people per sq. km of land area)',\n",
    " 'Population growth (annual %)',\n",
    " 'Population in the largest city (% of urban population)',\n",
    " 'Population living in slums (% of urban population)',\n",
    " 'Population, female',\n",
    " 'Population, male',\n",
    " 'Population, total',\n",
    " 'Rural population (% of total population)',\n",
    " 'Services, value added (% of GDP)',\n",
    " 'Surface area (sq. km)',\n",
    " 'Tax revenue (% of GDP)',\n",
    " 'Urban population (% of total population)',\n",
    " 'Urban population growth (annual %)']"
   ]
  },
  {
   "cell_type": "code",
   "execution_count": null,
   "metadata": {},
   "outputs": [],
   "source": [
    "n=10\n",
    "colnm=['Employment in agriculture','Employment in industry','Employment in services']\n",
    "lis=[25.8440,19.4788,54.6771]\n",
    "for i in range(3):\n",
    "    x_value = team[colm[n]]\n",
    "    country_code = team['Country Name']\n",
    "\n",
    "    chart = sns.barplot(country_code, x_value, data=team)\n",
    "    chart.set_xticklabels(chart.get_xticklabels(), rotation=45, horizontalalignment='right')\n",
    "    plt.axhline(y = lis[n-10], label = 'World Average')\n",
    "    plt.title(colnm[n-10])\n",
    "    plt.xlabel('Country')\n",
    "    plt.ylabel('% of total employment')\n",
    "    plt.savefig(str(n+1),bbox_inches='tight')\n",
    "    plt.show()\n",
    "    plt.clf\n",
    "    n=n+1"
   ]
  },
  {
   "cell_type": "code",
   "execution_count": null,
   "metadata": {},
   "outputs": [],
   "source": [
    "#### Josh ####\n",
    "#Reload File \n",
    "file = 'WDIW_Imputed_Values.xlsx'\n",
    "\n",
    "region = pd.read_excel(file, index_col = 'Country Code')"
   ]
  },
  {
   "cell_type": "code",
   "execution_count": null,
   "metadata": {},
   "outputs": [],
   "source": [
    "# Loop to make boxplots of all columns\n",
    "for col in region.select_dtypes(include=['float64', 'int']):\n",
    "    region.boxplot(column = col)\n",
    "    plt.title(col)\n",
    "    plt.suptitle(\"\")\n",
    "    plt.tight_layout()\n",
    "    plt.show()\n",
    "    "
   ]
  },
  {
   "cell_type": "code",
   "execution_count": null,
   "metadata": {},
   "outputs": [],
   "source": [
    "# Determine high Outliers Based on Boxplots\n",
    "adol_fert_hi       = 70\n",
    "age_depend_hi      = 60\n",
    "age_depend_old_hi  = 30\n",
    "age_depend_yng_hi  = 50\n",
    "agri_value_hi      = 10\n",
    "birth_rate_hi      = 18\n",
    "agri_employ_hi     = 30\n",
    "ind_employ_hi      = 30\n",
    "fert_rate_hi       = 2.5\n",
    "gdp_hi             = 25000000000\n",
    "ind_value_add_hi   = 30\n",
    "merch_trade_hi     = 55\n",
    "mob_subs_hi        = 175\n",
    "pop_14_hi          = 30\n",
    "pop_dens_hi        = 450\n",
    "tax_rev_hi         = 50"
   ]
  },
  {
   "cell_type": "code",
   "execution_count": null,
   "metadata": {},
   "outputs": [],
   "source": [
    "# Determine low Outliers Based on Boxplots\n",
    "access_elec_lo      = 90\n",
    "access_elec_rur_lo  = 90\n",
    "access_elec_urb_lo  = 90\n",
    "serv_employ_lo      = 50\n",
    "gdp_growth_lo       = -2\n",
    "life_exp_lo         = 70\n",
    "merch_trade_lo      = 25\n",
    "mob_subs_lo         = 50\n",
    "pop_growth_lo       = -0.5\n",
    "urban_pop_growth_lo = -0.5\n"
   ]
  },
  {
   "cell_type": "code",
   "execution_count": null,
   "metadata": {},
   "outputs": [],
   "source": [
    "# Outlier Flag for Access to Electricity\n",
    "region['out_Access to electricity (% of population)'] = 0\n",
    "\n",
    "region['out_Access to electricity (% of population)']\\\n",
    "                              .replace(to_replace = region.loc[:, 'out_Access to electricity (% of population)']\\\n",
    "                              [region['Access to electricity (% of population)'] < access_elec_lo],                            \n",
    "                              value      = 1,\n",
    "                              inplace    = True)\n",
    "\n",
    "# Outlier Flag for Access to Electricity, Rural\n",
    "region['out_Access to electricity, rural (% of rural population)'] = 0\n",
    "\n",
    "region['out_Access to electricity, rural (% of rural population)']\\\n",
    "                              .replace(to_replace = region.loc[:, 'out_Access to electricity, rural (% of rural population)']\\\n",
    "                              [region['Access to electricity, rural (% of rural population)'] < access_elec_rur_lo],                            \n",
    "                              value      = 1,\n",
    "                              inplace    = True)\n",
    "\n",
    "# Outlier Flag for Access to Electricity, Urban\n",
    "region['out_Access to electricity, urban (% of urban population)'] = 0\n",
    "\n",
    "region['out_Access to electricity, urban (% of urban population)']\\\n",
    "                              .replace(to_replace = region.loc[:, 'out_Access to electricity, urban (% of urban population)']\\\n",
    "                              [region['Access to electricity, urban (% of urban population)'] < access_elec_urb_lo ],                            \n",
    "                              value      = 1,\n",
    "                              inplace    = True)\n",
    "\n",
    "# Outlier Flag for Adol Fertility\n",
    "region['out_Adolescent fertility rate (births per 1,000 women ages 15-19)'] = 0\n",
    "\n",
    "region['out_Adolescent fertility rate (births per 1,000 women ages 15-19)']\\\n",
    "                              .replace(to_replace = region.loc[:, 'out_Adolescent fertility rate (births per 1,000 women ages 15-19)']\\\n",
    "                              [region['Adolescent fertility rate (births per 1,000 women ages 15-19)'] > adol_fert_hi],                            \n",
    "                              value      = 1,\n",
    "                              inplace    = True)\n",
    "\n",
    "# Outlier Flag for Age Dependency\n",
    "region['out_Age dependency ratio (% of working-age population)'] = 0\n",
    "\n",
    "region['out_Age dependency ratio (% of working-age population)']\\\n",
    "                              .replace(to_replace = region.loc[:, 'out_Age dependency ratio (% of working-age population)']\\\n",
    "                              [region['Age dependency ratio (% of working-age population)'] > age_depend_hi],                            \n",
    "                              value      = 1,\n",
    "                              inplace    = True)\n",
    "\n",
    "# Outlier Flag for Age Dependency Old\n",
    "region['out_Age dependency ratio, old (% of working-age population)'] = 0\n",
    "\n",
    "region['out_Age dependency ratio, old (% of working-age population)']\\\n",
    "                              .replace(to_replace = region.loc[:, 'out_Age dependency ratio, old (% of working-age population)']\\\n",
    "                              [region['Age dependency ratio, old (% of working-age population)'] > age_depend_old_hi],                            \n",
    "                              value      = 1,\n",
    "                              inplace    = True)\n",
    "\n",
    "# Outlier Flag for Age Dependency Young\n",
    "region['out_Age dependency ratio, young (% of working-age population)'] = 0\n",
    "\n",
    "region['out_Age dependency ratio, young (% of working-age population)']\\\n",
    "                              .replace(to_replace = region.loc[:, 'out_Age dependency ratio, young (% of working-age population)']\\\n",
    "                              [region['Age dependency ratio, young (% of working-age population)'] > age_depend_yng_hi],                            \n",
    "                              value      = 1,\n",
    "                              inplace    = True)\n",
    "\n",
    "# Outlier Flag for Agriculture Value Added\n",
    "region['out_Agriculture, forestry, and fishing, value added (% of GDP)'] = 0\n",
    "\n",
    "region['out_Agriculture, forestry, and fishing, value added (% of GDP)']\\\n",
    "                              .replace(to_replace = region.loc[:, 'out_Agriculture, forestry, and fishing, value added (% of GDP)']\\\n",
    "                              [region['Agriculture, forestry, and fishing, value added (% of GDP)'] > agri_value_hi],                            \n",
    "                              value      = 1,\n",
    "                              inplace    = True)\n",
    "\n",
    "# Outlier Flag for Birth Rate\n",
    "region['out_Birth rate, crude (per 1,000 people)'] = 0\n",
    "\n",
    "region['out_Birth rate, crude (per 1,000 people)']\\\n",
    "                              .replace(to_replace = region.loc[:, 'out_Birth rate, crude (per 1,000 people)']\\\n",
    "                              [region['Birth rate, crude (per 1,000 people)'] > birth_rate_hi],                            \n",
    "                              value      = 1,\n",
    "                              inplace    = True)\n",
    "\n",
    "# Outlier Flag for Employment in Agriculture\n",
    "region['out_Employment in agriculture (% of total employment) (modeled ILO estimate)'] = 0\n",
    "\n",
    "region['out_Employment in agriculture (% of total employment) (modeled ILO estimate)']\\\n",
    "                              .replace(to_replace = region.loc[:, 'out_Employment in agriculture (% of total employment) (modeled ILO estimate)']\\\n",
    "                              [region['Employment in agriculture (% of total employment) (modeled ILO estimate)'] > agri_employ_hi],                            \n",
    "                              value      = 1,\n",
    "                              inplace    = True)\n",
    "\n",
    "# Outlier Flag for Employment in Industry\n",
    "region['out_Employment in industry (% of total employment) (modeled ILO estimate)'] = 0\n",
    "\n",
    "region['out_Employment in industry (% of total employment) (modeled ILO estimate)']\\\n",
    "                              .replace(to_replace = region.loc[:, 'out_Employment in industry (% of total employment) (modeled ILO estimate)']\\\n",
    "                              [region['Employment in industry (% of total employment) (modeled ILO estimate)'] > ind_employ_hi],                            \n",
    "                              value      = 1,\n",
    "                              inplace    = True)\n",
    "\n",
    "# Outlier Flag for Employment in Services\n",
    "region['out_Employment in services (% of total employment) (modeled ILO estimate)'] = 0\n",
    "\n",
    "region['out_Employment in services (% of total employment) (modeled ILO estimate)']\\\n",
    "                              .replace(to_replace = region.loc[:, 'out_Employment in services (% of total employment) (modeled ILO estimate)']\\\n",
    "                              [region['Employment in services (% of total employment) (modeled ILO estimate)'] < serv_employ_lo],                            \n",
    "                              value      = 1,\n",
    "                              inplace    = True)\n",
    "\n",
    "# Outlier Flag for Fertility Rate\n",
    "region['out_Fertility rate, total (births per woman)'] = 0\n",
    "\n",
    "region['out_Fertility rate, total (births per woman)']\\\n",
    "                              .replace(to_replace = region.loc[:, 'out_Fertility rate, total (births per woman)']\\\n",
    "                              [region['Fertility rate, total (births per woman)'] > fert_rate_hi],                            \n",
    "                              value      = 1,\n",
    "                              inplace    = True)\n",
    "\n",
    "# Outlier Flag for GDP\n",
    "region['out_GDP (current US$)'] = 0\n",
    "\n",
    "region['out_GDP (current US$)']\\\n",
    "                              .replace(to_replace = region.loc[:, 'out_GDP (current US$)']\\\n",
    "                              [region['GDP (current US$)'] > gdp_hi],                            \n",
    "                              value      = 1,\n",
    "                              inplace    = True)\n",
    "\n",
    "# Outlier Flag for GDP\n",
    "region['out_GDP growth (annual %)'] = 0\n",
    "\n",
    "region['out_GDP growth (annual %)']\\\n",
    "                              .replace(to_replace = region.loc[:, 'out_GDP growth (annual %)']\\\n",
    "                              [region['GDP growth (annual %)'] < gdp_growth_lo],                            \n",
    "                              value      = 1,\n",
    "                              inplace    = True)\n",
    "\n",
    "# Outlier Flag for Industry Value Added\n",
    "region['out_Industry (including construction), value added (% of GDP)'] = 0\n",
    "\n",
    "region['out_Industry (including construction), value added (% of GDP)']\\\n",
    "                              .replace(to_replace = region.loc[:, 'out_Industry (including construction), value added (% of GDP)']\\\n",
    "                              [region['Industry (including construction), value added (% of GDP)'] > ind_value_add_hi],                            \n",
    "                              value      = 1,\n",
    "                              inplace    = True)\n",
    "\n",
    "# Outlier Flag for Life Expectancy\n",
    "region['out_Life expectancy at birth, total (years)'] = 0\n",
    "\n",
    "region['out_Life expectancy at birth, total (years)']\\\n",
    "                              .replace(to_replace = region.loc[:, 'out_Life expectancy at birth, total (years)']\\\n",
    "                              [region['Life expectancy at birth, total (years)'] < life_exp_lo],                            \n",
    "                              value      = 1,\n",
    "                              inplace    = True)\n",
    "\n",
    "# Outlier Flag for Merchandise Trade\n",
    "region['out_Merchandise trade (% of GDP)'] = 0\n",
    "\n",
    "region['out_Merchandise trade (% of GDP)']\\\n",
    "                              .replace(to_replace = region.loc[:, 'out_Merchandise trade (% of GDP)']\\\n",
    "                              [region['Merchandise trade (% of GDP)'] > merch_trade_hi],                            \n",
    "                              value      = 1,\n",
    "                              inplace    = True)\n",
    "region['out_Merchandise trade (% of GDP)']\\\n",
    "                              .replace(to_replace = region.loc[:, 'out_Merchandise trade (% of GDP)']\\\n",
    "                              [region['Merchandise trade (% of GDP)'] < merch_trade_lo],                            \n",
    "                              value      = 1,\n",
    "                              inplace    = True)\n",
    "\n",
    "# Outlier Flag for Mobile Subscriptions\n",
    "region['out_Mobile cellular subscriptions (per 100 people)'] = 0\n",
    "\n",
    "region['out_Mobile cellular subscriptions (per 100 people)']\\\n",
    "                              .replace(to_replace = region.loc[:, 'out_Mobile cellular subscriptions (per 100 people)']\\\n",
    "                              [region['Mobile cellular subscriptions (per 100 people)'] > mob_subs_hi],                            \n",
    "                              value      = 1,\n",
    "                              inplace    = True)\n",
    "region['out_Mobile cellular subscriptions (per 100 people)']\\\n",
    "                              .replace(to_replace = region.loc[:, 'out_Mobile cellular subscriptions (per 100 people)']\\\n",
    "                              [region['Mobile cellular subscriptions (per 100 people)'] < mob_subs_lo],                            \n",
    "                              value      = 1,\n",
    "                              inplace    = True)\n",
    "\n",
    "# Outlier Flag for Population 0-14\n",
    "region['out_Population ages 0-14 (% of total population)'] = 0\n",
    "\n",
    "region['out_Population ages 0-14 (% of total population)']\\\n",
    "                              .replace(to_replace = region.loc[:, 'out_Population ages 0-14 (% of total population)']\\\n",
    "                              [region['Population ages 0-14 (% of total population)'] > pop_14_hi],                            \n",
    "                              value      = 1,\n",
    "                              inplace    = True)\n",
    "\n",
    "# Outlier Flag for Population Density\n",
    "region['out_Population density (people per sq. km of land area)'] = 0\n",
    "\n",
    "region['out_Population density (people per sq. km of land area)']\\\n",
    "                              .replace(to_replace = region.loc[:, 'out_Population density (people per sq. km of land area)']\\\n",
    "                              [region['Population density (people per sq. km of land area)'] > pop_dens_hi],                            \n",
    "                              value      = 1,\n",
    "                              inplace    = True)\n",
    "\n",
    "# Outlier Flag for Population Growth\n",
    "region['out_Population growth (annual %)'] = 0\n",
    "\n",
    "region['out_Population growth (annual %)']\\\n",
    "                              .replace(to_replace = region.loc[:, 'out_Population growth (annual %)']\\\n",
    "                              [region['Population growth (annual %)'] < pop_growth_lo],                            \n",
    "                              value      = 1,\n",
    "                              inplace    = True)\n",
    "\n",
    "# Outlier Flag for Tax Revenue\n",
    "region['out_Tax revenue (% of GDP)'] = 0\n",
    "\n",
    "region['out_Tax revenue (% of GDP)']\\\n",
    "                              .replace(to_replace = region.loc[:, 'out_Tax revenue (% of GDP)']\\\n",
    "                              [region['Tax revenue (% of GDP)'] > tax_rev_hi],                            \n",
    "                              value      = 1,\n",
    "                              inplace    = True)\n",
    "\n",
    "# Outlier Flag for Tax Revenue\n",
    "region['out_Urban population growth (annual %)'] = 0\n",
    "\n",
    "region['out_Urban population growth (annual %)']\\\n",
    "                              .replace(to_replace = region.loc[:, 'out_Urban population growth (annual %)']\\\n",
    "                              [region['Urban population growth (annual %)'] < urban_pop_growth_lo],                            \n",
    "                              value      = 1,\n",
    "                              inplace    = True)\n"
   ]
  },
  {
   "cell_type": "code",
   "execution_count": null,
   "metadata": {},
   "outputs": [],
   "source": [
    "# Save file with outlier flags\n",
    "region.to_excel('WDIW_Outliers.xlsx',\n",
    "                 index = True)\n",
    "\n"
   ]
  },
  {
   "cell_type": "code",
   "execution_count": null,
   "metadata": {},
   "outputs": [],
   "source": [
    "#Reload File \n",
    "file = 'WDIW_Imputed_Values.xlsx'\n",
    "\n",
    "region = pd.read_excel(file, index_col = 'Country Code')\n",
    "\n"
   ]
  },
  {
   "cell_type": "code",
   "execution_count": null,
   "metadata": {},
   "outputs": [],
   "source": [
    "df_corr = region.corr().round(2)\n",
    "# Generate a mask for the upper triangle\n",
    "mask = np.zeros_like(df_corr, dtype=np.bool)\n",
    "mask[np.triu_indices_from(mask)] = True\n",
    "\n",
    "# Set up the matplotlib figure\n",
    "f, ax = plt.subplots(figsize=(11, 9))\n",
    "\n",
    "# Generate a custom diverging colormap\n",
    "cmap = sns.diverging_palette(220, 10, as_cmap=True)\n",
    "\n",
    "# Draw the heatmap with the mask and correct aspect ratio\n",
    "sns.heatmap(df_corr, mask=mask, cmap='Blues', vmax=.3, center=0,\n",
    "            square=True, linewidths=.5, cbar_kws={\"shrink\": .5})\n",
    "\n",
    "df_corr.to_excel(\"Corr_Matrix.xlsx\")\n",
    "plt.savefig('Region Correlation Heatmap.png')"
   ]
  },
  {
   "cell_type": "code",
   "execution_count": null,
   "metadata": {},
   "outputs": [],
   "source": [
    "region_gdp_corr = region[['Country Name',\n",
    "                          'GDP (current US$)',\n",
    "                          'GDP growth (annual %)',\n",
    "                          'Access to electricity (% of population)',\n",
    "                          'Life expectancy at birth, total (years)',\n",
    "                          'Age dependency ratio (% of working-age population)']].corr().round(2)\n",
    "\n",
    "mask = np.zeros_like(region_gdp_corr, dtype=np.bool)\n",
    "mask[np.triu_indices_from(mask)] = True\n",
    "\n",
    "# Set up the matplotlib figure\n",
    "f, ax = plt.subplots(figsize=(10, 8))\n",
    "\n",
    "# Generate a custom diverging colormap\n",
    "cmap = sns.diverging_palette(220, 10, as_cmap=True)\n",
    "\n",
    "# Draw the heatmap with the mask and correct aspect ratio\n",
    "sns.heatmap(region_gdp_corr, mask=mask, cmap='Blues', vmax=.3, center=0,\n",
    "            square=True, linewidths=.5, cbar_kws={\"shrink\": .5})\n",
    "\n",
    "region_gdp_corr.to_excel(\"Focussed_Corr_Matrix.xlsx\")\n",
    "plt.savefig('Focussed Correlation Heatmap.png')"
   ]
  },
  {
   "cell_type": "code",
   "execution_count": null,
   "metadata": {},
   "outputs": [],
   "source": [
    "# printing the value counts for Income Groups\n",
    "print(f\"\"\"\n",
    "Income Group Quantities:\n",
    "{region['Income Group'].value_counts()}\n",
    "      \"\"\")"
   ]
  },
  {
   "cell_type": "code",
   "execution_count": null,
   "metadata": {},
   "outputs": [],
   "source": [
    "# Bar Chart for Life Exp by Income group\n",
    "y_axis = [77.60,74.92,63.29]\n",
    "x_axis = ['High Income', 'Upper Middle Income', 'Low Income']\n",
    "\n",
    "chart = sns.barplot(x_axis, y_axis, data=region)\n",
    "chart.set_xticklabels(chart.get_xticklabels(), rotation=45, horizontalalignment='right')\n",
    "plt.axhline(y = 72.38, linewidth=4, color='r')\n",
    "plt.title('Life Expectancy by Income Group')\n",
    "plt.xlabel('Income Group Average')\n",
    "plt.ylabel('Life Expectancy')\n",
    "plt.ylim(55, 80) # Control y-axis limits\n"
   ]
  },
  {
   "cell_type": "code",
   "execution_count": null,
   "metadata": {},
   "outputs": [],
   "source": [
    "# Bar Chart for Access to Electricity by Income group\n",
    "y_axis = [100,98.99,43.75]\n",
    "x_axis = ['High Income', 'Upper Middle Income', 'Low Income']\n",
    "\n",
    "chart = sns.barplot(x_axis, y_axis, data=region)\n",
    "chart.set_xticklabels(chart.get_xticklabels(), rotation=45, horizontalalignment='right')\n",
    "plt.axhline(y = 88.85, linewidth=4, color='r')\n",
    "plt.title('Access to Electricity (%) by Income Group')\n",
    "plt.xlabel('Income Group Average')\n",
    "plt.ylabel('Access to Electricity (%)')\n",
    "plt.ylim(0, 100) # Control y-axis limits"
   ]
  },
  {
   "cell_type": "code",
   "execution_count": null,
   "metadata": {},
   "outputs": [],
   "source": []
  }
 ],
 "metadata": {
  "kernelspec": {
   "display_name": "Python 3",
   "language": "python",
   "name": "python3"
  },
  "language_info": {
   "codemirror_mode": {
    "name": "ipython",
    "version": 3
   },
   "file_extension": ".py",
   "mimetype": "text/x-python",
   "name": "python",
   "nbconvert_exporter": "python",
   "pygments_lexer": "ipython3",
   "version": "3.7.3"
  },
  "toc": {
   "base_numbering": 1,
   "nav_menu": {},
   "number_sections": true,
   "sideBar": true,
   "skip_h1_title": false,
   "title_cell": "Table of Contents",
   "title_sidebar": "Contents",
   "toc_cell": false,
   "toc_position": {},
   "toc_section_display": true,
   "toc_window_display": false
  },
  "varInspector": {
   "cols": {
    "lenName": 16,
    "lenType": 16,
    "lenVar": 40
   },
   "kernels_config": {
    "python": {
     "delete_cmd_postfix": "",
     "delete_cmd_prefix": "del ",
     "library": "var_list.py",
     "varRefreshCmd": "print(var_dic_list())"
    },
    "r": {
     "delete_cmd_postfix": ") ",
     "delete_cmd_prefix": "rm(",
     "library": "var_list.r",
     "varRefreshCmd": "cat(var_dic_list()) "
    }
   },
   "types_to_exclude": [
    "module",
    "function",
    "builtin_function_or_method",
    "instance",
    "_Feature"
   ],
   "window_display": false
  }
 },
 "nbformat": 4,
 "nbformat_minor": 2
}
